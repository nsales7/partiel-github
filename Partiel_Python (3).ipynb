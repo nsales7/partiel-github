{
  "nbformat": 4,
  "nbformat_minor": 0,
  "metadata": {
    "colab": {
      "name": "Partiel Python",
      "provenance": []
    },
    "kernelspec": {
      "name": "python3",
      "display_name": "Python 3"
    },
    "language_info": {
      "name": "python"
    }
  },
  "cells": [
    {
      "cell_type": "code",
      "execution_count": 10,
      "metadata": {
        "colab": {
          "base_uri": "https://localhost:8080/"
        },
        "id": "xWvmT-_hZVig",
        "outputId": "0c8aca46-fee5-423d-bdff-88e8d01573ef"
      },
      "outputs": [
        {
          "output_type": "execute_result",
          "data": {
            "text/plain": [
              "62.5"
            ]
          },
          "metadata": {},
          "execution_count": 10
        }
      ],
      "source": [
        "#1. a)\n",
        "def Polynome (x):\n",
        "  return (x**3)-1.5*(x**2)-(6*x)+5\n",
        "Polynome(5)\n",
        "  \n"
      ]
    },
    {
      "cell_type": "code",
      "source": [
        "def Polynome(x):\n",
        "  print((x**3)-1.5*(x**2)-(6*x)+5)\n",
        "Polynome(5)"
      ],
      "metadata": {
        "colab": {
          "base_uri": "https://localhost:8080/"
        },
        "id": "FyxZp_tmapx8",
        "outputId": "e8e16c48-9b06-45b4-c3ab-aa41f03d96d4"
      },
      "execution_count": 11,
      "outputs": [
        {
          "output_type": "stream",
          "name": "stdout",
          "text": [
            "62.5\n"
          ]
        }
      ]
    },
    {
      "cell_type": "code",
      "source": [
        "#b)\n",
        "factorielle=1\n",
        "if factorielle==0:\n",
        "    print('Factorielle est égale à 1')\n",
        "\n",
        "n=int(input(\"Entrer la valeur de n\"))\n",
        "for i in range(1,n+1):\n",
        "  factorielle=factorielle*i\n",
        "print(\"Factorielle de n est\", factorielle)\n",
        "\n",
        "\n"
      ],
      "metadata": {
        "colab": {
          "base_uri": "https://localhost:8080/"
        },
        "id": "9FyCcIXPgkci",
        "outputId": "05dbf083-9fd7-4158-f6c7-c638269c7387"
      },
      "execution_count": 21,
      "outputs": [
        {
          "output_type": "stream",
          "name": "stdout",
          "text": [
            "Entrer la valeur de n3\n",
            "Factorielle de n est 6\n"
          ]
        }
      ]
    },
    {
      "cell_type": "code",
      "source": [
        "#c)\n",
        "def fibonacci(n):\n",
        "  if n==1 or n==2:\n",
        "    return 1\n",
        "  else: \n",
        "    return fibonacci(n-1) + fibonacci(n-2)\n",
        "n=int(input(\"Entrez un nombre\")) \n",
        "print(fibonacci(n))\n"
      ],
      "metadata": {
        "colab": {
          "base_uri": "https://localhost:8080/"
        },
        "id": "XheWCuthnq4R",
        "outputId": "072705c2-880e-482b-d511-6bb578c203bd"
      },
      "execution_count": 30,
      "outputs": [
        {
          "output_type": "stream",
          "name": "stdout",
          "text": [
            "Entrez un nombre6\n",
            "8\n"
          ]
        }
      ]
    },
    {
      "cell_type": "code",
      "source": [
        "def fibonacci(n):\n",
        "  if n==1 or n==2:\n",
        "    return 1\n",
        "  else: \n",
        "    return fibonacci(n-1) + fibonacci(n-2)\n",
        "for i in range(1,6): \n",
        "  print(fibonacci(i))"
      ],
      "metadata": {
        "colab": {
          "base_uri": "https://localhost:8080/"
        },
        "id": "Y9DaeT4psPzp",
        "outputId": "f07f02e1-2cf7-422d-a446-73324cdbb424"
      },
      "execution_count": 32,
      "outputs": [
        {
          "output_type": "stream",
          "name": "stdout",
          "text": [
            "1\n",
            "1\n",
            "2\n",
            "3\n",
            "5\n"
          ]
        }
      ]
    },
    {
      "cell_type": "code",
      "source": [
        "#2. \n",
        "def Polynome (x):\n",
        "#chaine de caractère\n",
        "  if (type(x)==str):  \n",
        "    print(\"impossibilité de saisir une chaine de caractère\")\n",
        "# nombre complexe\n",
        "  elif (type(x)==complex): \n",
        "    is_cplx(n)\n",
        "    print(is_cplx(n))\n",
        "    n=is_cplx(n)\n",
        "#nombre négatif\n",
        "  elif(type(n) in [int,float]): \n",
        "    n=neg(n)\n",
        "#longueur nombre > 10\n",
        "  elif len(str(n) > 10):\n",
        "    limitsup_digit(n)\n",
        "    n=limitsup_digit(n)\n",
        "#longueur nombre < 2\n",
        "  elif len(str(n) < 10):\n",
        "    limitinf_digit(n)\n",
        "    n=limitinf_digit(n)\n",
        "\n",
        "  return (x**3)-1.5*(x**2)-(6*x)+5\n",
        "Polynome(5)"
      ],
      "metadata": {
        "colab": {
          "base_uri": "https://localhost:8080/",
          "height": 322
        },
        "id": "NC68zFLmssFH",
        "outputId": "f82a8822-bf5c-491b-e4f6-ad1314bc76b0"
      },
      "execution_count": 37,
      "outputs": [
        {
          "output_type": "error",
          "ename": "UnboundLocalError",
          "evalue": "ignored",
          "traceback": [
            "\u001b[0;31m---------------------------------------------------------------------------\u001b[0m",
            "\u001b[0;31mUnboundLocalError\u001b[0m                         Traceback (most recent call last)",
            "\u001b[0;32m<ipython-input-37-a6f1e95d7156>\u001b[0m in \u001b[0;36m<module>\u001b[0;34m()\u001b[0m\n\u001b[1;32m     22\u001b[0m \u001b[0;34m\u001b[0m\u001b[0m\n\u001b[1;32m     23\u001b[0m   \u001b[0;32mreturn\u001b[0m \u001b[0;34m(\u001b[0m\u001b[0mx\u001b[0m\u001b[0;34m**\u001b[0m\u001b[0;36m3\u001b[0m\u001b[0;34m)\u001b[0m\u001b[0;34m-\u001b[0m\u001b[0;36m1.5\u001b[0m\u001b[0;34m*\u001b[0m\u001b[0;34m(\u001b[0m\u001b[0mx\u001b[0m\u001b[0;34m**\u001b[0m\u001b[0;36m2\u001b[0m\u001b[0;34m)\u001b[0m\u001b[0;34m-\u001b[0m\u001b[0;34m(\u001b[0m\u001b[0;36m6\u001b[0m\u001b[0;34m*\u001b[0m\u001b[0mx\u001b[0m\u001b[0;34m)\u001b[0m\u001b[0;34m+\u001b[0m\u001b[0;36m5\u001b[0m\u001b[0;34m\u001b[0m\u001b[0;34m\u001b[0m\u001b[0m\n\u001b[0;32m---> 24\u001b[0;31m \u001b[0mPolynome\u001b[0m\u001b[0;34m(\u001b[0m\u001b[0;36m5\u001b[0m\u001b[0;34m)\u001b[0m\u001b[0;34m\u001b[0m\u001b[0;34m\u001b[0m\u001b[0m\n\u001b[0m",
            "\u001b[0;32m<ipython-input-37-a6f1e95d7156>\u001b[0m in \u001b[0;36mPolynome\u001b[0;34m(x)\u001b[0m\n\u001b[1;32m     10\u001b[0m     \u001b[0mn\u001b[0m\u001b[0;34m=\u001b[0m\u001b[0mis_cplx\u001b[0m\u001b[0;34m(\u001b[0m\u001b[0mn\u001b[0m\u001b[0;34m)\u001b[0m\u001b[0;34m\u001b[0m\u001b[0;34m\u001b[0m\u001b[0m\n\u001b[1;32m     11\u001b[0m \u001b[0;31m#nombre négatif\u001b[0m\u001b[0;34m\u001b[0m\u001b[0;34m\u001b[0m\u001b[0;34m\u001b[0m\u001b[0m\n\u001b[0;32m---> 12\u001b[0;31m   \u001b[0;32melif\u001b[0m\u001b[0;34m(\u001b[0m\u001b[0mtype\u001b[0m\u001b[0;34m(\u001b[0m\u001b[0mn\u001b[0m\u001b[0;34m)\u001b[0m \u001b[0;32min\u001b[0m \u001b[0;34m[\u001b[0m\u001b[0mint\u001b[0m\u001b[0;34m,\u001b[0m\u001b[0mfloat\u001b[0m\u001b[0;34m]\u001b[0m\u001b[0;34m)\u001b[0m\u001b[0;34m:\u001b[0m\u001b[0;34m\u001b[0m\u001b[0;34m\u001b[0m\u001b[0m\n\u001b[0m\u001b[1;32m     13\u001b[0m     \u001b[0mn\u001b[0m\u001b[0;34m=\u001b[0m\u001b[0mneg\u001b[0m\u001b[0;34m(\u001b[0m\u001b[0mn\u001b[0m\u001b[0;34m)\u001b[0m\u001b[0;34m\u001b[0m\u001b[0;34m\u001b[0m\u001b[0m\n\u001b[1;32m     14\u001b[0m \u001b[0;31m#longueur nombre > 10\u001b[0m\u001b[0;34m\u001b[0m\u001b[0;34m\u001b[0m\u001b[0;34m\u001b[0m\u001b[0m\n",
            "\u001b[0;31mUnboundLocalError\u001b[0m: local variable 'n' referenced before assignment"
          ]
        }
      ]
    }
  ]
}